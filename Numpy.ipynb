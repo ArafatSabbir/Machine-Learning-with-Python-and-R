{
 "cells": [
  {
   "cell_type": "code",
   "execution_count": 1,
   "metadata": {},
   "outputs": [
    {
     "name": "stdout",
     "output_type": "stream",
     "text": [
      "[10 11 12 13 14 15 16 17 18 19 20 21 22 23 24 25 26 27 28 29 30 31 32 33\n",
      " 34 35 36 37 38 39 40 41 42 43 44 45 46 47 48 49]\n",
      "[[1. 0. 0. 0.]\n",
      " [0. 1. 0. 0.]\n",
      " [0. 0. 1. 0.]\n",
      " [0. 0. 0. 1.]]\n",
      "[[1. 1.]\n",
      " [1. 1.]]\n"
     ]
    }
   ],
   "source": [
    "import numpy as np\n",
    "a1 = np.array([2,1,3,4])\n",
    "a2 = np.array([[2,1,4],[2,5,4],[2,6,3]])\n",
    "a3 = np.array([[[2,1,4],[2,1,4],[2,1,4]],[[2,1,4],[2,1,4],[2,1,4]],[[2,1,4],[2,1,4],[2,1,4]]])\n",
    "\n",
    "a4 = np.arange(10,50)\n",
    "a5 = np.arange(10)\n",
    "a6 = np.arange(.5,5,.25) #.25 distance\n",
    "\n",
    "a7 = np.linspace(3,8,9) # split into 9 steps\n",
    "\n",
    "ao1 = np.ones((2,2)) # fill marix with one\n",
    "\n",
    "e1 = np.eye(4)\n",
    "\n",
    "print(a4)\n",
    "print(e1)\n",
    "print(ao1)"
   ]
  },
  {
   "cell_type": "code",
   "execution_count": 2,
   "metadata": {
    "scrolled": true
   },
   "outputs": [
    {
     "name": "stdout",
     "output_type": "stream",
     "text": [
      "[[0.06593745 0.12624763 0.37671096 0.06665947]\n",
      " [0.10075024 0.03815777 0.19396562 0.69909737]\n",
      " [0.76356935 0.56849491 0.279947   0.45804901]\n",
      " [0.70015817 0.89395387 0.72875507 0.05856874]]\n",
      "2\n",
      "(4, 4)\n",
      "16\n",
      "float64\n",
      "[[2 1]\n",
      " [3 4]]\n",
      "[[2 1 4]\n",
      " [2 5 4]\n",
      " [2 6 3]]\n",
      "------------\n",
      "[[2 6 3]]\n",
      "[ 5  6  7  8  9 10 11 12 13 14]\n",
      "14\n",
      "5\n",
      "[ 5 11 18 26 35 45 56 68 81 95]\n",
      "[ 0.          0.91294525  0.74511316 -0.30481062 -0.99388865 -0.50636564\n",
      "  0.58061118  0.98023966  0.21942526 -0.80115264]\n",
      "[[0 1 2]\n",
      " [3 4 5]\n",
      " [6 7 8]]\n",
      "[[ 13  14  15]\n",
      " [ 59  64  69]\n",
      " [105 114 123]]\n"
     ]
    }
   ],
   "source": [
    "\n",
    "ran1 = np.random.random((4,4)) #random matrix\n",
    "print(ran1)\n",
    "print(ran1.ndim) #print matrix dimension\n",
    "print(ran1.shape)\n",
    "print(ran1.size)\n",
    "print(ran1.dtype)\n",
    "print(a1.reshape(2,2)) #make smaller matrix into new dimension\n",
    "print(a2)\n",
    "print('------------')\n",
    "print(a2[2:3])\n",
    "\n",
    "\n",
    "s1 = np.arange(5,15)\n",
    "print(s1)\n",
    "print(s1.max())\n",
    "print(s1.min())\n",
    "print(s1.cumsum())\n",
    "\n",
    "x1 = np.linspace(0,180,10)\n",
    "print(np.sin(x1))\n",
    "\n",
    "x2 = np.arange(9).reshape(3,3)\n",
    "print(x2)\n",
    "\n",
    "#multiplication of matrix\n",
    "\n",
    "x3 = np.arange(6).reshape(3,2)\n",
    "x4 = np.arange(10,16).reshape(2,3)\n",
    "print(x3.dot(x4))\n"
   ]
  },
  {
   "cell_type": "code",
   "execution_count": 3,
   "metadata": {},
   "outputs": [
    {
     "data": {
      "text/plain": [
       "array([1, 2, 3])"
      ]
     },
     "execution_count": 3,
     "metadata": {},
     "output_type": "execute_result"
    }
   ],
   "source": [
    "np.array([1,2,3])"
   ]
  },
  {
   "cell_type": "code",
   "execution_count": 4,
   "metadata": {},
   "outputs": [
    {
     "name": "stdout",
     "output_type": "stream",
     "text": [
      "<class 'numpy.ndarray'>\n"
     ]
    }
   ],
   "source": [
    "print(type(s1))"
   ]
  },
  {
   "cell_type": "code",
   "execution_count": 13,
   "metadata": {},
   "outputs": [
    {
     "name": "stdout",
     "output_type": "stream",
     "text": [
      "11 ms ± 1.25 ms per loop (mean ± std. dev. of 7 runs, 100 loops each)\n"
     ]
    }
   ],
   "source": [
    "c = range(10000)\n",
    "%timeit [i**3 for i in c] # normal list"
   ]
  },
  {
   "cell_type": "code",
   "execution_count": 14,
   "metadata": {},
   "outputs": [
    {
     "name": "stdout",
     "output_type": "stream",
     "text": [
      "5.94 ms ± 438 µs per loop (mean ± std. dev. of 7 runs, 100 loops each)\n"
     ]
    }
   ],
   "source": [
    "c_np = np.arange(10000)        #numpy list\n",
    "%timeit [i**3 for i in c_np]"
   ]
  },
  {
   "cell_type": "code",
   "execution_count": 15,
   "metadata": {},
   "outputs": [
    {
     "data": {
      "text/plain": [
       "array([[5, 5, 5],\n",
       "       [5, 5, 5],\n",
       "       [5, 5, 5]])"
      ]
     },
     "execution_count": 15,
     "metadata": {},
     "output_type": "execute_result"
    }
   ],
   "source": [
    "np.full((3,3),5)"
   ]
  },
  {
   "cell_type": "code",
   "execution_count": 16,
   "metadata": {},
   "outputs": [
    {
     "data": {
      "text/plain": [
       "array([[1, 0, 0, 0, 0, 0],\n",
       "       [0, 2, 0, 0, 0, 0],\n",
       "       [0, 0, 3, 0, 0, 0],\n",
       "       [0, 0, 0, 4, 0, 0],\n",
       "       [0, 0, 0, 0, 5, 0],\n",
       "       [0, 0, 0, 0, 0, 6]])"
      ]
     },
     "execution_count": 16,
     "metadata": {},
     "output_type": "execute_result"
    }
   ],
   "source": [
    "np.diag([1,2,3,4,5,6])"
   ]
  },
  {
   "cell_type": "code",
   "execution_count": 25,
   "metadata": {},
   "outputs": [
    {
     "data": {
      "text/plain": [
       "array([[0.15632574, 0.41331654],\n",
       "       [0.42651332, 0.27111208],\n",
       "       [0.86438803, 0.51238468]])"
      ]
     },
     "execution_count": 25,
     "metadata": {},
     "output_type": "execute_result"
    }
   ],
   "source": [
    "np.random.random([3,2])"
   ]
  },
  {
   "cell_type": "code",
   "execution_count": 29,
   "metadata": {},
   "outputs": [
    {
     "data": {
      "text/plain": [
       "4"
      ]
     },
     "execution_count": 29,
     "metadata": {},
     "output_type": "execute_result"
    }
   ],
   "source": [
    "s1.itemsize"
   ]
  },
  {
   "cell_type": "code",
   "execution_count": 33,
   "metadata": {},
   "outputs": [
    {
     "name": "stdout",
     "output_type": "stream",
     "text": [
      "[[0 1 2]\n",
      " [3 4 5]\n",
      " [6 7 8]]\n"
     ]
    }
   ],
   "source": [
    "r1 = np.arange(9).reshape(3,3)\n",
    "print(r1)"
   ]
  },
  {
   "cell_type": "code",
   "execution_count": 34,
   "metadata": {},
   "outputs": [
    {
     "data": {
      "text/plain": [
       "array([[6, 7, 8]])"
      ]
     },
     "execution_count": 34,
     "metadata": {},
     "output_type": "execute_result"
    }
   ],
   "source": [
    "r1[2:5]"
   ]
  },
  {
   "cell_type": "code",
   "execution_count": 35,
   "metadata": {},
   "outputs": [
    {
     "data": {
      "text/plain": [
       "array([[0, 1, 2],\n",
       "       [6, 7, 8]])"
      ]
     },
     "execution_count": 35,
     "metadata": {},
     "output_type": "execute_result"
    }
   ],
   "source": [
    "r1[0::2]"
   ]
  },
  {
   "cell_type": "code",
   "execution_count": 36,
   "metadata": {},
   "outputs": [
    {
     "data": {
      "text/plain": [
       "array([3, 4, 5, 6])"
      ]
     },
     "execution_count": 36,
     "metadata": {},
     "output_type": "execute_result"
    }
   ],
   "source": [
    "r1[(r1>2) & (r1<7) ]"
   ]
  },
  {
   "cell_type": "code",
   "execution_count": 4,
   "metadata": {},
   "outputs": [],
   "source": [
    "import numpy as np\n",
    "t1 = np.arange(10)\n",
    "t2 = t1"
   ]
  },
  {
   "cell_type": "code",
   "execution_count": 5,
   "metadata": {},
   "outputs": [
    {
     "data": {
      "text/plain": [
       "True"
      ]
     },
     "execution_count": 5,
     "metadata": {},
     "output_type": "execute_result"
    }
   ],
   "source": [
    "np.shares_memory(t1,t2)"
   ]
  },
  {
   "cell_type": "code",
   "execution_count": 6,
   "metadata": {},
   "outputs": [],
   "source": [
    "t3 = t1.copy()"
   ]
  },
  {
   "cell_type": "code",
   "execution_count": 7,
   "metadata": {},
   "outputs": [
    {
     "data": {
      "text/plain": [
       "False"
      ]
     },
     "execution_count": 7,
     "metadata": {},
     "output_type": "execute_result"
    }
   ],
   "source": [
    "np.shares_memory(t1,t3)"
   ]
  },
  {
   "cell_type": "code",
   "execution_count": null,
   "metadata": {},
   "outputs": [],
   "source": []
  }
 ],
 "metadata": {
  "kernelspec": {
   "display_name": "Python 3",
   "language": "python",
   "name": "python3"
  },
  "language_info": {
   "codemirror_mode": {
    "name": "ipython",
    "version": 3
   },
   "file_extension": ".py",
   "mimetype": "text/x-python",
   "name": "python",
   "nbconvert_exporter": "python",
   "pygments_lexer": "ipython3",
   "version": "3.7.4"
  }
 },
 "nbformat": 4,
 "nbformat_minor": 2
}
