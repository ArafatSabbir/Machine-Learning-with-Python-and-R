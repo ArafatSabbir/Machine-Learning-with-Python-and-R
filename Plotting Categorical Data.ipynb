{
 "cells": [
  {
   "cell_type": "code",
   "execution_count": null,
   "metadata": {},
   "outputs": [],
   "source": [
    "# loading libraries and reading the data\n",
    "import numpy as np\n",
    "import pandas as pd\n",
    "import matplotlib.pyplot as plt\n",
    "import seaborn as sns\n",
    "\n",
    "# set seaborn theme if you prefer\n",
    "sns.set(style=\"white\")\n",
    "\n",
    "# read data\n",
    "market_df = pd.read_csv(\"./Datasets/global_sales_data/market_fact.csv\")\n",
    "customer_df = pd.read_csv(\"./Datasets/global_sales_data/cust_dimen.csv\")\n",
    "product_df = pd.read_csv(\"./Datasets/global_sales_data/prod_dimen.csv\")\n",
    "shipping_df = pd.read_csv(\"./Datasets/global_sales_data/shipping_dimen.csv\")\n",
    "orders_df = pd.read_csv(\"./Datasets/global_sales_data/orders_dimen.csv\")\n"
   ]
  }
 ],
 "metadata": {
  "kernelspec": {
   "display_name": "Python 3",
   "language": "python",
   "name": "python3"
  },
  "language_info": {
   "codemirror_mode": {
    "name": "ipython",
    "version": 3
   },
   "file_extension": ".py",
   "mimetype": "text/x-python",
   "name": "python",
   "nbconvert_exporter": "python",
   "pygments_lexer": "ipython3",
   "version": "3.7.4"
  }
 },
 "nbformat": 4,
 "nbformat_minor": 2
}
